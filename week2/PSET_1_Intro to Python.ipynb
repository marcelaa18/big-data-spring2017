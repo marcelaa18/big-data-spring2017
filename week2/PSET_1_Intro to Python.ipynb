{
 "cells": [
  {
   "cell_type": "markdown",
   "metadata": {},
   "source": [
    "# Problem Set 1: Intro to Python\n",
    "This problem set is meant to create a good foundation of programming. We emphasize code readability and reusability over performance. Code performance can be measured in many different ways, and is by no means the focus of this course, however, we expect your code to be non-repetitive, clean, and efficient enough to deal with medium-to-large datasets. As we move forward with the course, you will be introduced to some functional programming techniques, iterators, and objects that will help speed-up the data munging of the type of data sets that we will be dealing with. \n",
    "\n",
    "`Throughout the course you will be using multiple online resources to help you solve the assignments, we do too. However, if you are using other people’s code, make sure to credit the source, and come up with your own implementation. In this problem set, you are welcome to refer to online resources and documentation. One of the primary ones you will find you use is:` [Stack Overflow]( http://stackoverflow.com/)."
   ]
  },
  {
   "cell_type": "markdown",
   "metadata": {},
   "source": [
    "## 1. Lists\n",
    "Do the following:\n",
    "1. Create a list containing any 4 strings.\n",
    "2. Print the 3rd item in the list\n",
    "3. Print the 1st and 2nd item in the list using [:] index slicing.\n",
    "4. Add a new string with text “last” to the end of the list and print the list.\n",
    "5. Get the list length and print it.\n",
    "6. Replace the last item in the list with the string “new” and print\n"
   ]
  },
  {
   "cell_type": "code",
   "execution_count": 2,
   "metadata": {
    "collapsed": false
   },
   "outputs": [
    {
     "name": "stdout",
     "output_type": "stream",
     "text": [
      "DUSP\n",
      "['Marcela', 'Angel']\n",
      "['Marcela', 'Angel', 'DUSP', 'MCP1', 'last']\n",
      "5\n",
      "['Marcela', 'Angel', 'DUSP', 'MCP1', 'new']\n"
     ]
    }
   ],
   "source": [
    "L = ['Marcela','Angel','DUSP','MCP1']\n",
    "print(L[2])\n",
    "print(L[0:2])\n",
    "L.append ('last')\n",
    "print (L)\n",
    "print (len(L))\n",
    "L.remove('last')\n",
    "L.append ('new')\n",
    "print (L)"
   ]
  },
  {
   "cell_type": "markdown",
   "metadata": {},
   "source": [
    "## 2. Strings \n",
    "\n",
    "Given the following list of words:\n",
    "```Python\n",
    "list1=['I', 'am', 'learning','Python','to','munge','large','datasets','and','visualize','them']\n",
    "```\n",
    "1. Convert the list into a normal sentence with [`join()`](https://docs.python.org/2/library/stdtypes.html#str.join), then print.\n",
    "2. [**Reverse**](https://docs.python.org/release/2.3.5/whatsnew/section-slices.html) the order of this list `[“them”,”visualize”,…]`\n",
    "3. Now [**sort**](https://docs.python.org/2/library/functions.html#sorted) the list using the default sort order in python\n",
    "4. Modify the sort to do a case [**insensitive**](http://matthiaseisen.com/pp/patterns/p0005/) alphabetic sort\n",
    "5. Now print the list in reverse alphabetic sort order\n"
   ]
  },
  {
   "cell_type": "code",
   "execution_count": 2,
   "metadata": {
    "collapsed": false
   },
   "outputs": [
    {
     "name": "stdout",
     "output_type": "stream",
     "text": [
      "I am learning Python to munge large datasets and visualize them\n"
     ]
    }
   ],
   "source": [
    "list1=['I', 'am', 'learning','Python','to','munge','large','datasets','and','visualize','them']\n",
    "print (\" \".join(list1))"
   ]
  },
  {
   "cell_type": "code",
   "execution_count": 9,
   "metadata": {
    "collapsed": false
   },
   "outputs": [
    {
     "data": {
      "text/plain": [
       "['them',\n",
       " 'visualize',\n",
       " 'and',\n",
       " 'datasets',\n",
       " 'large',\n",
       " 'munge',\n",
       " 'to',\n",
       " 'Python',\n",
       " 'learning',\n",
       " 'am',\n",
       " 'I']"
      ]
     },
     "execution_count": 9,
     "metadata": {},
     "output_type": "execute_result"
    }
   ],
   "source": [
    "list1[::-1]"
   ]
  },
  {
   "cell_type": "code",
   "execution_count": 7,
   "metadata": {
    "collapsed": false
   },
   "outputs": [
    {
     "data": {
      "text/plain": [
       "['I',\n",
       " 'Python',\n",
       " 'am',\n",
       " 'and',\n",
       " 'datasets',\n",
       " 'large',\n",
       " 'learning',\n",
       " 'munge',\n",
       " 'them',\n",
       " 'to',\n",
       " 'visualize']"
      ]
     },
     "execution_count": 7,
     "metadata": {},
     "output_type": "execute_result"
    }
   ],
   "source": [
    "sorted(list1)"
   ]
  },
  {
   "cell_type": "code",
   "execution_count": 12,
   "metadata": {
    "collapsed": false
   },
   "outputs": [],
   "source": [
    "list2 = sorted(list1, key=lambda x: x.lower())"
   ]
  },
  {
   "cell_type": "code",
   "execution_count": 13,
   "metadata": {
    "collapsed": false
   },
   "outputs": [
    {
     "name": "stdout",
     "output_type": "stream",
     "text": [
      "['visualize', 'to', 'them', 'Python', 'munge', 'learning', 'large', 'I', 'datasets', 'and', 'am']\n"
     ]
    }
   ],
   "source": [
    "print(list2[::-1])"
   ]
  },
  {
   "cell_type": "markdown",
   "metadata": {},
   "source": [
    "## 3. Random Function\n",
    "Here is a python snippet for generating a random integer:\n",
    "\n",
    "```Python\n",
    "import random\n",
    "# this returns random integer: 100 <= number <= 1000 \n",
    "num = random.randint(100, 1000)\n",
    "```\n",
    "\n",
    "* Implement your own random function that builds on this python function, returning an integer between a low and a high number supplied by the user, but that can be called with the low number optional (default to 0).\n",
    "\n",
    "* Test your function by adding the following 2 assert statements to your file (replace myrandom and low with the names you used). The [`assert`](https://docs.python.org/2/reference/simple_stmts.html#assert) statement helps you debug, by testing if a statement is true. \n",
    "\n",
    "```Python\n",
    "assert(0 <= myrandom(100) <= 100)\n",
    "assert(50 <= myrandom(100,low=50) <= 100)\n",
    "```\n",
    "\n",
    "\n",
    "1. Inputs: \n",
    "  1. Two `integers` that will be used as lower and upper bounds of the function. \n",
    "2. Outputs: \n",
    "  1. A random number within the established bounds. "
   ]
  },
  {
   "cell_type": "code",
   "execution_count": 120,
   "metadata": {
    "collapsed": false
   },
   "outputs": [
    {
     "name": "stdout",
     "output_type": "stream",
     "text": [
      "Enter the lowest number: 1\n",
      "Enter the highest number: 3\n",
      "1\n",
      "2\n",
      "29\n",
      "77\n"
     ]
    }
   ],
   "source": [
    "import random\n",
    "\n",
    "L = input(\"Enter the lowest number: \")\n",
    "H = input(\"Enter the highest number: \")\n",
    "L_int = int(L)\n",
    "H_int = int(H)\n",
    "\n",
    "# create a function that reads two numbers, and outputs a random number between them\n",
    "def random_number(high=100, low=0):\n",
    "    myrandom = random.randint(low,high)\n",
    "    print(myrandom)\n",
    "    return myrandom\n",
    "\n",
    "# Random number runs here with H_int, L_int    \n",
    "random_number(H_int, L_int)\n",
    "\n",
    "# Random number runs here with H_int, L_int \n",
    "assert(L_int <= random_number(H_int,L_int) <= H_int)\n",
    "\n",
    "# Random number runs here with high of 100 and low 0\n",
    "assert(0 <= random_number(100) <= 100)\n",
    "\n",
    "# Random number runs here with high 100 and low of 50\n",
    "assert(50 <= random_number(100,50) <= 100)"
   ]
  },
  {
   "cell_type": "markdown",
   "metadata": {},
   "source": [
    "## 4. String Formatting Function \n",
    "Write a function that expects 2 inputs from the command line. The first is a title that may be multiple words, the second is a number. Given these inputs print the following string (replacing N and Title with the dynamic values passed in to the script each time it runs).\n",
    "\n",
    "`The number N bestseller today is: Title` \n",
    "\n",
    "* If not already title-cased, the function should **title-case** the string. \n",
    "* Build one function making the first input optional (keeping the 2nd required).\n",
    "* Build another function making the second input optional (keeping the 1st required).\n",
    "* Build a third function making both inputs optional.\n"
   ]
  },
  {
   "cell_type": "code",
   "execution_count": 105,
   "metadata": {
    "collapsed": false
   },
   "outputs": [
    {
     "name": "stdout",
     "output_type": "stream",
     "text": [
      "Enter the title: big data\n",
      "Enter the number: 1\n"
     ]
    },
    {
     "data": {
      "text/plain": [
       "'The Number 1 Bestseller Today Is: Big Data'"
      ]
     },
     "execution_count": 105,
     "metadata": {},
     "output_type": "execute_result"
    }
   ],
   "source": [
    "#title-case function\n",
    "title = input(\"Enter the title: \")\n",
    "N = input(\"Enter the number: \")\n",
    "title2 = \"The number \" + N + \" bestseller today is: \"+ title \n",
    "title2.title()"
   ]
  },
  {
   "cell_type": "code",
   "execution_count": 106,
   "metadata": {
    "collapsed": false
   },
   "outputs": [
    {
     "name": "stdout",
     "output_type": "stream",
     "text": [
      "Enter the title: big data\n",
      "Enter the number: \n",
      "Number is required\n",
      "Enter the number: 1\n"
     ]
    },
    {
     "data": {
      "text/plain": [
       "'The Number 1 Bestseller Today Is: Big Data'"
      ]
     },
     "execution_count": 106,
     "metadata": {},
     "output_type": "execute_result"
    }
   ],
   "source": [
    "title = input(\"Enter the title: \")\n",
    "N = input(\"Enter the number: \")\n",
    "while N == \"\":\n",
    "    print(\"Number is required\")\n",
    "    N = input(\"Enter the number: \")\n",
    "title2 = \"The number \" + N + \" bestseller today is: \"+ title \n",
    "title2.title()\n",
    "    "
   ]
  },
  {
   "cell_type": "code",
   "execution_count": 16,
   "metadata": {
    "collapsed": false
   },
   "outputs": [
    {
     "name": "stdout",
     "output_type": "stream",
     "text": [
      "Enter the title: \n",
      "Title is required\n",
      "Enter the title: \n",
      "Title is required\n",
      "Enter the title: \n",
      "Title is required\n",
      "Enter the title: Big Data\n",
      "Enter the number: 1\n",
      "The number 1 bestseller today is: Big Data\n"
     ]
    }
   ],
   "source": [
    "title = input(\"Enter the title: \")\n",
    "while title == \"\":\n",
    "    print(\"Title is required\")\n",
    "    title = input(\"Enter the title: \")\n",
    "\n",
    "N = input(\"Enter the number: \")\n",
    "title2 = \"The number \" + N + \" bestseller today is: \"+ title \n",
    "title2.title()\n",
    "    "
   ]
  },
  {
   "cell_type": "code",
   "execution_count": 180,
   "metadata": {
    "collapsed": false
   },
   "outputs": [
    {
     "name": "stdout",
     "output_type": "stream",
     "text": [
      "Enter the title: \n",
      "Enter the number: \n",
      "The number  bestseller today is: \n"
     ]
    }
   ],
   "source": [
    "title = input(\"Enter the title: \")\n",
    "N = input(\"Enter the number: \")\n",
    "print (\"The number \" + N + \" bestseller today is: \"+ title )"
   ]
  },
  {
   "cell_type": "markdown",
   "metadata": {},
   "source": [
    "## 5. Password Validation Function \n",
    "Write a password validation function. Ask the user to input a password that meets the criteria listed below. You can either use the **Python** [`input`](https://docs.python.org/3/library/functions.html#input) built-in function, or just pass the password as a function argument. Validate that the user’s password matches this criteria. After 3 bad tries, quit with an error message. If password is valid, print a helpful success message.\n",
    "\n",
    "* password length must be 8-14 characters\n",
    "* password must contain at least 2 digits\n",
    "* password must contain at least 1 uppercase letter\n",
    "* password must contain at least 1 special character from this set !@#$%^&*()-_+=\n",
    "\n",
    "\n",
    "\n",
    "1. Inputs: \n",
    "  1. A `string` that will be tested for the password requirements. The string can be passed as an argument to the function, or as an input through the `input` function.\n",
    "2. Outputs: \n",
    "  1. A **success** message if the password works, otherwise an **error** message. \n"
   ]
  },
  {
   "cell_type": "code",
   "execution_count": 101,
   "metadata": {
    "collapsed": false
   },
   "outputs": [
    {
     "name": "stdout",
     "output_type": "stream",
     "text": [
      "Enter the password: 123\n",
      "3\n"
     ]
    }
   ],
   "source": [
    "#testing the length\n",
    "password = input(\"Enter the password: \")\n",
    "length=len(password)\n",
    "print(length)"
   ]
  },
  {
   "cell_type": "code",
   "execution_count": 100,
   "metadata": {
    "collapsed": false
   },
   "outputs": [
    {
     "name": "stdout",
     "output_type": "stream",
     "text": [
      "Enter the password: 123\n",
      "Error\n",
      "Enter the password: 123\n",
      "Error\n",
      "Enter the password: Q!234567899\n",
      "Success\n"
     ]
    }
   ],
   "source": [
    "#password validation function\n",
    "password_valid = 0\n",
    "errorcount = 0\n",
    "while password_valid ==0: \n",
    "    password = input(\"Enter the password: \")\n",
    "    length=len(password)\n",
    "    digits=''.join(c for c in password if c.isdigit())\n",
    "    upper=''.join(d for d in password if d.isupper())\n",
    "    lista=[\"!\",\"@\",\"#\",\"$\",\"%\",\"^\",\"&\",\"*\",\"(\",\")\",\"_\",\"+\",\"=\"]\n",
    "    special=''.join(e for e in password if e in lista)\n",
    "    error=0\n",
    "    if length > 14:\n",
    "        error=error+1\n",
    "    if length < 8:\n",
    "        error=error+1 \n",
    "    if len(digits) <2:\n",
    "        error=error+1 \n",
    "    if len(upper) <1:\n",
    "        error=error+1 \n",
    "    if len(special) <1:\n",
    "        error=error+1 \n",
    "    if error==0:\n",
    "        password_valid = 1\n",
    "        print(\"Success\")\n",
    "    else:\n",
    "        print(\"Error\")\n",
    "        errorcount = errorcount+1\n",
    "        if errorcount > 2:\n",
    "            print(\"Number of tries exceded\")\n",
    "            password_valid =1"
   ]
  },
  {
   "cell_type": "markdown",
   "metadata": {},
   "source": [
    "## 6. Exponentiation Function\n",
    "Create a function called **exp** that asks for two digits and then prints an exponentiation, without using the exponentiation operator (`**`). You may assume these are positive integers. Use at least one custom-defined function.\n",
    "\n",
    "For example, some outputs of this function could be:\n",
    "* 2 , 3 => 8\n",
    "* 5 , 4 => 625\n",
    "\n",
    "1. Inputs: \n",
    "  1. An `integer` that will be recursively multiplied\n",
    "  2. An `integer` that will define the number of times to multiply the number to get the exponentiation.\n",
    "2. Outputs: \n",
    "  1. An `integer` that is the result of the exponentiation. \n",
    "\n",
    "`Hint: You can recursively multiply a number. The second number defines the number of times the recursive loop happens. Every time the loop happens, you can redefine the variable that gets multiplied.` "
   ]
  },
  {
   "cell_type": "code",
   "execution_count": 121,
   "metadata": {
    "collapsed": false
   },
   "outputs": [
    {
     "name": "stdout",
     "output_type": "stream",
     "text": [
      "8\n"
     ]
    },
    {
     "data": {
      "text/plain": [
       "625"
      ]
     },
     "execution_count": 121,
     "metadata": {},
     "output_type": "execute_result"
    }
   ],
   "source": [
    "def exp(x, y):\n",
    "    output = x\n",
    "    count = 1\n",
    "    while count < y:\n",
    "        output = output*x\n",
    "        count = count+1\n",
    "    else:\n",
    "        return(output)\n",
    "    \n",
    "exp(2,3)\n",
    "print(exp(2,3))\n",
    "exp(5,4)\n"
   ]
  },
  {
   "cell_type": "markdown",
   "metadata": {},
   "source": [
    "## 7. Min and Max Functions (Bonus)\n",
    "\n",
    "EXTRA CREDIT\n",
    "\n",
    "Write your own versions of the Python built-in functions **min** and **max**. They should take a list as an argument and return the minimum or maximum element. Assume lists contain numeric items only. \n",
    "\n",
    "1. Inputs: \n",
    "  1. A `list` of `numbers` to be tested. \n",
    "2. Outputs: \n",
    "  1. A `number` of the list that is the maximum or minimum. \n",
    "\n",
    "`Hint: Pick the first element as the minimum(maximum) and then loop through the elements to find a smaller(larger) element. Each time you find a smaller (larger) element, update your minimum (maximum).`"
   ]
  },
  {
   "cell_type": "code",
   "execution_count": 154,
   "metadata": {
    "collapsed": false
   },
   "outputs": [
    {
     "data": {
      "text/plain": [
       "2"
      ]
     },
     "execution_count": 154,
     "metadata": {},
     "output_type": "execute_result"
    }
   ],
   "source": [
    "list = [3,4,5,20,102,3,5,67,39,28,10,3,34,6,107,99,2]\n",
    "\n",
    "def min(list):     \n",
    "    min = list[0]     \n",
    "    for x in list[1:]:         \n",
    "        if x < min:              \n",
    "            min = x  \n",
    "    return min\n",
    "\n",
    "min(list)"
   ]
  },
  {
   "cell_type": "code",
   "execution_count": 155,
   "metadata": {
    "collapsed": false
   },
   "outputs": [
    {
     "data": {
      "text/plain": [
       "107"
      ]
     },
     "execution_count": 155,
     "metadata": {},
     "output_type": "execute_result"
    }
   ],
   "source": [
    "list = [3,4,20,102,3,5,67,39,28,10,1,4,34,1,6,107,99]\n",
    "\n",
    "def max(list):     \n",
    "    max = list[0]     \n",
    "    for x in list[1:]:         \n",
    "        if x > max:              \n",
    "            max = x  \n",
    "    return max\n",
    "\n",
    "max(list)"
   ]
  },
  {
   "cell_type": "markdown",
   "metadata": {},
   "source": [
    "## 8. Hangman Game (Bonus)\n",
    "\n",
    "EXTRA CREDIT\n",
    "\n",
    "Implement a basic hangman game through functions.\n",
    "* Show a user the word or phrase (5-15 letters) that they have to guess with dashes as placeholders for unsolved letters. You can hardcode this word into your source.\n",
    "* Prompt the user to guess a letter or solve the puzzle through the user [`input`](https://docs.python.org/2/library/functions.html#input) function. They get up to 8 guesses. After each guess, show the word with any instances of correctly guessed letters filled in. Show the number of tries left. Handle possible issues with user input in a consistent way.\n",
    "* Continue to prompt the user until either they’ve used up their 8 guesses or solved.\n",
    "* If they solve the puzzle in time, show the completed word and a congratulatory message.\n",
    "* If they fail to solve the puzzle, show the completed word and a Game Over message.\n",
    "\n",
    "\n",
    "Here’s a sample transcript.\n",
    "> You have 8 guesses to solve this word. \n",
    "\n",
    ">------------------------------------------   \n",
    "\n",
    ">guess a letter or solve: b \n",
    "\n",
    ">b--b--b--  (7 tries left) \n",
    "\n",
    ">guess a letter or solve: x \n",
    "\n",
    ">b--b--b--  (6 tries left) \n",
    "\n",
    ">guess a letter or solve: e \n",
    "\n",
    ">b--b-ebee  (5 tries left) \n",
    "\n",
    ">guess a letter or solve: bumblebee \n",
    "\n",
    ">bumblebee  (4 tries left) \n",
    "\n",
    ">Congratulations, you won!\n",
    "\n",
    "1. Inputs: \n",
    "  1. A `string` that will be tested to see whether or not it is part of the secret word. \n",
    "2. Outputs: \n",
    "  1. A message that shows the user the number of guessed letters at the time.\n",
    "  2. A **success** message if the user wins, otherwise a **try again** message. \n"
   ]
  },
  {
   "cell_type": "code",
   "execution_count": 1,
   "metadata": {
    "collapsed": false
   },
   "outputs": [
    {
     "name": "stdout",
     "output_type": "stream",
     "text": [
      "Welcome to Hangman! You have 8 tries to guess the name of a city.\n",
      "Please enter a number 0-4 to choose the word in the list: 2\n",
      "The length of the word is:  6\n",
      "Please enter a letter (lowercase): b\n",
      "The letter is in the word.\n",
      "you have guessed these letters: b\n",
      "Letters matched so far b_ _ _ _ _ \n",
      "You have 8 guesses left\n",
      "\n",
      "Please enter a letter (lowercase): o\n",
      "The letter is in the word.\n",
      "you have guessed these letters: bo\n",
      "Letters matched so far bo_ _ o_ \n",
      "You have 8 guesses left\n",
      "\n",
      "Please enter a letter (lowercase): h\n",
      "The letter is not in the word.\n",
      "you have guessed these letters: boh\n",
      "Letters matched so far bo_ _ o_ \n",
      "You have 7 guesses left\n",
      "\n",
      "Please enter a letter (lowercase): f\n",
      "The letter is not in the word.\n",
      "you have guessed these letters: bohf\n",
      "Letters matched so far bo_ _ o_ \n",
      "You have 6 guesses left\n",
      "\n",
      "Please enter a letter (lowercase): k\n",
      "The letter is not in the word.\n",
      "you have guessed these letters: bohfk\n",
      "Letters matched so far bo_ _ o_ \n",
      "You have 5 guesses left\n",
      "\n",
      "Please enter a letter (lowercase): i\n",
      "The letter is not in the word.\n",
      "you have guessed these letters: bohfki\n",
      "Letters matched so far bo_ _ o_ \n",
      "You have 4 guesses left\n",
      "\n",
      "Please enter a letter (lowercase): t\n",
      "The letter is in the word.\n",
      "you have guessed these letters: bohfkit\n",
      "Letters matched so far bo_ to_ \n",
      "You have 4 guesses left\n",
      "\n",
      "Please enter a letter (lowercase): r\n",
      "The letter is not in the word.\n",
      "you have guessed these letters: bohfkitr\n",
      "Letters matched so far bo_ to_ \n",
      "You have 3 guesses left\n",
      "\n",
      "Please enter a letter (lowercase): y\n",
      "The letter is not in the word.\n",
      "you have guessed these letters: bohfkitry\n",
      "Letters matched so far bo_ to_ \n",
      "You have 2 guesses left\n",
      "\n",
      "Please enter a letter (lowercase): u\n",
      "The letter is not in the word.\n",
      "you have guessed these letters: bohfkitryu\n",
      "Letters matched so far bo_ to_ \n",
      "You have 1 guesses left\n",
      "\n",
      "Please enter a letter (lowercase): p\n",
      "The letter is not in the word.\n",
      "you have guessed these letters: bohfkitryup\n",
      "Letters matched so far bo_ to_ \n",
      "You have 0 guesses left\n",
      "\n",
      "Game Over. The word was: boston\n"
     ]
    }
   ],
   "source": [
    "print(\"Welcome to Hangman! You have 8 tries to guess the name of a city.\")\n",
    "\n",
    "words= ['bogota','mexico','boston','berlin','madrid']\n",
    "\n",
    "w=int(input(\"Please enter a number 0-4 to choose the word in the list: \"))\n",
    "\n",
    "if(words[w]):\n",
    "    print(\"The length of the word is: \" , len(words[w]))\n",
    "\n",
    "guesses=0\n",
    "letters_guessed = []\n",
    "word = []\n",
    "for x in range(len(words[w])):\n",
    "    word.append('_ ')\n",
    "\n",
    "while guesses < 8:\n",
    "    guess=input(\"Please enter a letter (lowercase): \")\n",
    "\n",
    "    if(guess in words[w]):\n",
    "        print(\"The letter is in the word.\")\n",
    "        for index, letter in enumerate(words[w]):\n",
    "            if letter == guess:\n",
    "                word[index] = guess\n",
    "        letters_guessed.append(guess)\n",
    "\n",
    "    else:\n",
    "        print(\"The letter is not in the word.\")\n",
    "        guesses=guesses+1\n",
    "        letters_guessed.append(guess)\n",
    "\n",
    "    print(\"you have guessed these letters: %s\"%(''.join(letters_guessed)))\n",
    "    print(\"Letters matched so far %s\"%''.join(word))\n",
    "    print(\"You have %i guesses left\"%(8-guesses))\n",
    "    print()\n",
    "\n",
    "    if ''.join(word) == words[w]:\n",
    "        break\n",
    "\n",
    "if guesses==8:\n",
    "    print(\"Game Over. The word was:\" , words[w])\n",
    "else:\n",
    "    print(\"Success! You won!\")"
   ]
  }
 ],
 "metadata": {
  "kernelspec": {
   "display_name": "Python 3",
   "language": "python",
   "name": "python3"
  },
  "language_info": {
   "codemirror_mode": {
    "name": "ipython",
    "version": 3
   },
   "file_extension": ".py",
   "mimetype": "text/x-python",
   "name": "python",
   "nbconvert_exporter": "python",
   "pygments_lexer": "ipython3",
   "version": "3.6.0"
  }
 },
 "nbformat": 4,
 "nbformat_minor": 0
}
